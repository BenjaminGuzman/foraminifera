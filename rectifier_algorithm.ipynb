{
 "cells": [
  {
   "cell_type": "code",
   "execution_count": 2,
   "metadata": {},
   "outputs": [],
   "source": [
    "import numpy as np\n",
    "import os\n",
    "\n",
    "from PIL import Image\n",
    "import cv2\n",
    "\n",
    "import matplotlib.pyplot as plt"
   ]
  },
  {
   "cell_type": "code",
   "execution_count": 3,
   "metadata": {},
   "outputs": [],
   "source": [
    "INPUT_DIR_IMAGES = os.path.abspath(\"resized_images_bin\")"
   ]
  },
  {
   "cell_type": "code",
   "execution_count": 4,
   "metadata": {},
   "outputs": [
    {
     "data": {
      "image/png": "[encoded data removed]",
      "text/plain": [
       "<Figure size 432x288 with 1 Axes>"
      ]
     },
     "metadata": {
      "needs_background": "light"
     },
     "output_type": "display_data"
    }
   ],
   "source": [
    "files = os.listdir(INPUT_DIR_IMAGES)\n",
    "\n",
    "images = []\n",
    "for i, file in enumerate(files):\n",
    "    image = Image.open(\"{}/{}\".format(INPUT_DIR_IMAGES, file))\n",
    "    _, image_bin = cv2.threshold(np.array(image), 254, 1, cv2.THRESH_BINARY)\n",
    "    image = np.array(image_bin, dtype=np.uint8)\n",
    "    images.append(image)\n",
    "plt.imshow(images[1])\n",
    "plt.show()"
   ]
  },
  {
   "cell_type": "code",
   "execution_count": 53,
   "metadata": {},
   "outputs": [],
   "source": [
    "vectors = []\n",
    "indexed_vectors = {}\n",
    "image = images[0]\n",
    "image_shape = image.shape\n",
    "for row_index, row in enumerate(image):\n",
    "    next_row_index = row_index + 1 if row_index != image_shape[0] - 1 else False\n",
    "    indexed_vectors[row_index] = []\n",
    "    for col_index, pixel in enumerate(row):\n",
    "        tmp_vectors = []\n",
    "        \n",
    "        if pixel == 0:\n",
    "            continue\n",
    "        \n",
    "        if col_index != image_shape[1] - 1:\n",
    "            next_col_index = col_index + 1\n",
    "            # check b\n",
    "            if image[row_index][next_col_index] == 1:\n",
    "                tmp_vectors.append((row_index, col_index + 1))\n",
    "            \n",
    "            # check e\n",
    "            if next_row_index:\n",
    "                if image[next_row_index][next_col_index] == 1:\n",
    "                    tmp_vectors.append((next_row_index, next_col_index))\n",
    "                    \n",
    "        # check c\n",
    "        if next_row_index:\n",
    "            if col_index != 0:\n",
    "                if image[next_row_index][col_index - 1] == 1:\n",
    "                    tmp_vectors.append((next_row_index, col_index - 1))\n",
    "        \n",
    "        # check d\n",
    "        if next_row_index:\n",
    "            if image[next_row_index][col_index] == 1:\n",
    "                tmp_vectors.append((next_row_index, col_index))\n",
    "        \n",
    "        if len(tmp_vectors) == 0:\n",
    "            continue\n",
    "        \n",
    "        tmp_vectors = np.array(tmp_vectors, dtype=np.uint8)\n",
    "        tmp_vectors_rows = tmp_vectors[:, 0]\n",
    "        tmp_vectors_cols = tmp_vectors[:, 1]\n",
    "        avg_row = int(round(sum(tmp_vectors_rows) / len(tmp_vectors_rows)))\n",
    "        avg_col = int(round(sum(tmp_vectors_cols) / len(tmp_vectors_cols)))\n",
    "        vectors.append([(row_index, col_index), (avg_row, avg_col)])\n",
    "        indexed_vectors[row_index].append([(row_index, col_index), (avg_row, avg_col)])"
   ]
  },
  {
   "cell_type": "code",
   "execution_count": 18,
   "metadata": {},
   "outputs": [],
   "source": [
    "vectors = np.array(vectors, dtype=np.uint8)"
   ]
  },
  {
   "cell_type": "code",
   "execution_count": 57,
   "metadata": {},
   "outputs": [
    {
     "name": "stdout",
     "output_type": "stream",
     "text": [
      "[[(83, 33), (83, 34)], [(83, 34), (83, 35)], [(83, 35), (83, 36)], [(83, 36), (83, 37)], [(83, 37), (83, 38)], [(83, 38), (83, 39)], [(83, 39), (83, 40)], [(83, 40), (83, 41)], [(83, 41), (83, 42)], [(83, 42), (83, 43)], [(83, 43), (83, 44)], [(83, 44), (83, 45)], [(83, 45), (83, 46)], [(83, 46), (83, 47)], [(83, 47), (83, 48)], [(83, 48), (83, 49)], [(83, 49), (83, 50)], [(83, 50), (83, 51)], [(83, 51), (83, 52)]]\n"
     ]
    }
   ],
   "source": [
    "last_row_vectors = indexed_vectors[len(indexed_vectors) - 1]\n",
    "print(last_row_vectors)\n",
    "final_vector_last_point = [last_row_vectors[0][0][0], 0]\n",
    "for start_point, end_point in last_row_vectors:\n",
    "    final_vector_last_point[1] += end_point[1]\n",
    "    \n",
    "final_vector_last_point[1] = round(final_vector_last_point[1] / len(last_row_vectors))\n",
    "\n",
    "for row, row_vectors in indexed_vectors.items():\n",
    "    for vectors_ in row_vectors:\n",
    "        #print(vectors_)\n",
    "        pass"
   ]
  },
  {
   "cell_type": "code",
   "execution_count": 115,
   "metadata": {},
   "outputs": [
    {
     "data": {
      "image/png": "[encoded data removed]",
      "text/plain": [
       "<Figure size 432x288 with 1 Axes>"
      ]
     },
     "metadata": {
      "needs_background": "light"
     },
     "output_type": "display_data"
    }
   ],
   "source": [
    "image_coords = []\n",
    "for row_index, row in enumerate(images[4]):\n",
    "    for col_index, pixel in enumerate(row):\n",
    "        if pixel == 1:\n",
    "            image_coords.append([row_index, col_index])\n",
    "image_coords = np.array(image_coords)\n",
    "\n",
    "plt.scatter(image_coords[:, 0], image_coords[:, 1])\n",
    "\n",
    "m, b = np.polyfit(image_coords[:, 0], image_coords[:, 1], 1)\n",
    "x = [i for i in range(84)]\n",
    "y = [a * x_ + b for x_ in x]\n",
    "plt.scatter(x, y)\n",
    "\n",
    "plt.show()"
   ]
  },
  {
   "cell_type": "code",
   "execution_count": 7,
   "metadata": {},
   "outputs": [
    {
     "data": {
      "image/png": "[encoded data removed]",
      "text/plain": [
       "<Figure size 432x288 with 1 Axes>"
      ]
     },
     "metadata": {
      "needs_background": "light"
     },
     "output_type": "display_data"
    }
   ],
   "source": [
    "plt.scatter(vectors[:, 0, 0], vectors[:, 1, 1])\n",
    "plt.show()"
   ]
  },
  {
   "cell_type": "markdown",
   "metadata": {},
   "source": [
    "TODO: Complete algorithm"
   ]
  },
  {
   "cell_type": "code",
   "execution_count": 8,
   "metadata": {},
   "outputs": [],
   "source": [
    "principal_line = []\n",
    "for row_index, row in enumerate(image):\n",
    "    active_pixels = [j for j, pixel in enumerate(row) if pixel == 1]\n",
    "    if len(active_pixels) == 0:\n",
    "        continue\n",
    "    principal_line.append([row_index, int(round(sum(active_pixels) / len(active_pixels)))])\n",
    "\n",
    "principal_line = np.array(principal_line, dtype=np.uint8)"
   ]
  },
  {
   "cell_type": "code",
   "execution_count": 9,
   "metadata": {},
   "outputs": [
    {
     "name": "stdout",
     "output_type": "stream",
     "text": [
      "[ 0  1  2  3  4  5  6  7  8  9 10 11 12 13 14 15 16 17 18 19 20 21 22 23\n",
      " 24 25 26 27 28 29 30 31 32 33 34 35 36 37 38 39 40 41 42 43 44 45 46 47\n",
      " 48 49 50 51 52 53 54 55 56 57 58 59 60 61 62 63 64 65 66 67 68 69 70 71\n",
      " 72 73 74 75 76 77 78 79 80 81 82 83] [46 48 46 46 44 44 44 44 45 45 46 48 48 46 47 46 46 46 46 46 46 44 44 44\n",
      " 44 43 43 42 42 42 42 41 42 41 40 41 40 40 40 40 40 40 40 39 38 38 39 42\n",
      " 42 43 44 46 46 46 46 46 47 47 47 48 47 47 47 47 46 47 46 46 46 46 46 45\n",
      " 44 44 44 43 42 42 44 44 44 44 44 42]\n"
     ]
    },
    {
     "data": {
      "image/png": "[encoded data removed]",
      "text/plain": [
       "<Figure size 432x288 with 1 Axes>"
      ]
     },
     "metadata": {
      "needs_background": "light"
     },
     "output_type": "display_data"
    },
    {
     "name": "stdout",
     "output_type": "stream",
     "text": [
      "-0.2848232864955594 -0.004971145084540253\n"
     ]
    }
   ],
   "source": [
    "print(principal_line[:, 0], principal_line[:, 1])\n",
    "plt.scatter(principal_line[:, 1][::1], principal_line[:, 0][::-1], c=\"#FF0000\")\n",
    "plt.xlim(0, 84)\n",
    "plt.ylim(0, 84)\n",
    "\n",
    "approx_m, approx_b = np.polyfit(principal_line[:, 0], principal_line[:, 1], 1)\n",
    "\n",
    "x = [i for i in range(84)]\n",
    "y = [approx_m * i + approx_b for i in x]\n",
    "\n",
    "plt.scatter(y, x[::-1], c=\"#00FF00\")\n",
    "plt.show()\n",
    "\n",
    "rotation_angle = np.degrees(np.arctan(approx_m))\n",
    "print(rotation_angle, approx_m)"
   ]
  },
  {
   "cell_type": "code",
   "execution_count": 10,
   "metadata": {},
   "outputs": [
    {
     "data": {
      "image/png": "[encoded data removed]",
      "text/plain": [
       "<Figure size 432x288 with 1 Axes>"
      ]
     },
     "metadata": {
      "needs_background": "light"
     },
     "output_type": "display_data"
    }
   ],
   "source": [
    "rotation_matrix = cv2.getRotationMatrix2D((42, 42), rotation_angle, 1)\n",
    "rotated = cv2.warpAffine(images[1], rotation_matrix, (84, 84))\n",
    "\n",
    "plt.imshow(rotated)\n",
    "plt.show()"
   ]
  },
  {
   "cell_type": "code",
   "execution_count": 12,
   "metadata": {},
   "outputs": [
    {
     "data": {
      "text/plain": [
       "{'m00': 4637.0,\n",
       " 'm10': 184736.0,\n",
       " 'm01': 204052.0,\n",
       " 'm20': 9228692.0,\n",
       " 'm11': 8159143.0,\n",
       " 'm02': 10818494.0,\n",
       " 'm30': 516016238.0,\n",
       " 'm21': 408090313.0,\n",
       " 'm12': 436619483.0,\n",
       " 'm03': 638160760.0,\n",
       " 'mu20': 1868892.6262669833,\n",
       " 'mu11': 29802.850765581243,\n",
       " 'mu02': 1839149.875781756,\n",
       " 'mu30': -562399.4216335416,\n",
       " 'mu21': -394564.90857470036,\n",
       " 'mu12': 2992575.4751268476,\n",
       " 'mu03': 226803.00322675705,\n",
       " 'nu20': 0.08691808689168706,\n",
       " 'nu11': 0.0013860650612319964,\n",
       " 'nu02': 0.08553481696235114,\n",
       " 'nu30': -0.00038410691490774993,\n",
       " 'nu21': -0.0002694794907919368,\n",
       " 'nu12': 0.0020438657814420003,\n",
       " 'nu03': 0.00015490165620761807}"
      ]
     },
     "execution_count": 12,
     "metadata": {},
     "output_type": "execute_result"
    }
   ],
   "source": [
    "moments = cv2.moments(images[1])\n",
    "moments"
   ]
  },
  {
   "cell_type": "code",
   "execution_count": 14,
   "metadata": {},
   "outputs": [
    {
     "data": {
      "image/png": "[encoded data removed]",
      "text/plain": [
       "<Figure size 432x288 with 1 Axes>"
      ]
     },
     "metadata": {
      "needs_background": "light"
     },
     "output_type": "display_data"
    }
   ],
   "source": [
    "cX = int(moments[\"m10\"] / moments[\"m00\"])\n",
    "cY = int(moments[\"m01\"] / moments[\"m00\"])\n",
    "\n",
    "plt.imshow(rotated)\n",
    "plt.scatter([cX], [cY], c=\"#FFFFFF\")\n",
    "plt.show()"
   ]
  }
 ],
 "metadata": {
  "kernelspec": {
   "display_name": "Python 3",
   "language": "python",
   "name": "python3"
  },
  "language_info": {
   "codemirror_mode": {
    "name": "ipython",
    "version": 3
   },
   "file_extension": ".py",
   "mimetype": "text/x-python",
   "name": "python",
   "nbconvert_exporter": "python",
   "pygments_lexer": "ipython3",
   "version": "3.8.5"
  }
 },
 "nbformat": 4,
 "nbformat_minor": 4
}
