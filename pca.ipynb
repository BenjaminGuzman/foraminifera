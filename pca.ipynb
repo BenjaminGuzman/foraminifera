{
 "cells": [
  {
   "cell_type": "markdown",
   "metadata": {},
   "source": [
    "# Foraminifera clusterization\n",
    "## [GitHub: BenjaminGuzman](https://github.com/BenjaminGuzman)"
   ]
  },
  {
   "cell_type": "code",
   "execution_count": 1,
   "metadata": {
    "pycharm": {
     "is_executing": false
    }
   },
   "outputs": [],
   "source": [
    "import os\n",
    "import cv2\n",
    "import numpy as np\n",
    "from sklearn.preprocessing import StandardScaler\n",
    "from sklearn.decomposition import PCA\n",
    "from sklearn.model_selection import train_test_split\n",
    "\n",
    "import matplotlib.pyplot as plt\n",
    "from mpl_toolkits.mplot3d import Axes3D"
   ]
  },
  {
   "cell_type": "code",
   "execution_count": 2,
   "metadata": {},
   "outputs": [],
   "source": [
    "SEGMENTED_CROPPED_DIR = os.path.abspath(\"img/segmented_cropped\")\n",
    "SEGMENTED_DIR = os.path.abspath(\"img/segmented\")"
   ]
  },
  {
   "cell_type": "markdown",
   "metadata": {
    "pycharm": {
     "name": "#%% md\n"
    }
   },
   "source": [
    "## Analyze single image"
   ]
  },
  {
   "cell_type": "code",
   "execution_count": 20,
   "metadata": {
    "pycharm": {
     "name": "#%%\n"
    }
   },
   "outputs": [
    {
     "name": "stdout",
     "output_type": "stream",
     "text": [
      "---- BEFORE ----\n",
      "Image shape: (305, 309, 3)\n",
      "Image dtype:  uint8\n",
      "Unique values [  0  33  35  37  38  39  40  41  42  43  44  45  46  47  48  49  50  51\n",
      "  52  53  54  55  56  57  58  59  60  61  62  63  64  65  66  67  68  69\n",
      "  70  71  72  73  74  75  76  77  78  79  80  81  82  83  84  85  86  87\n",
      "  88  89  90  91  92  93  94  95  96  97  98  99 100 101 102 103 104 105\n",
      " 106 107 108 109 110 111 112 113 114 115 116 117 118 119 120 121 122 123\n",
      " 124 125 126 127 128 129 130 131 132 133 134 135 136 137 138 139 140 141\n",
      " 142 143 144 145 146 147 148 149 150 151 152 153 154 155 156 157 158 159\n",
      " 160 161 162 163 164 167 170]\n",
      "\n",
      "---- AFTER ----\n",
      "Image shape: (282735, 1)\n",
      "Image dtype:  float32\n",
      "Unique values [-1.2399514  -0.5846913  -0.54497856 -0.50526583 -0.48540947 -0.4655531\n",
      " -0.44569674 -0.42584038 -0.405984   -0.38612765 -0.3662713  -0.34641492\n",
      " -0.32655856 -0.3067022  -0.28684583 -0.26698947 -0.2471331  -0.22727674\n",
      " -0.20742038 -0.18756402 -0.16770765 -0.14785129 -0.12799492 -0.10813857\n",
      " -0.08828221 -0.06842585 -0.04856948 -0.02871312 -0.00885676  0.01099961\n",
      "  0.03085604  0.05071241  0.07056877  0.09042514  0.1102815   0.13013786\n",
      "  0.14999422  0.16985059  0.18970695  0.20956331  0.22941968  0.24927604\n",
      "  0.2691324   0.28898877  0.30884513  0.3287015   0.34855786  0.36841422\n",
      "  0.3882706   0.40812695  0.4279833   0.44783968  0.46769604  0.4875524\n",
      "  0.50740874  0.52726513  0.54712147  0.56697786  0.5868342   0.6066906\n",
      "  0.6265469   0.64640325  0.66625965  0.686116    0.7059724   0.7258287\n",
      "  0.7456851   0.76554143  0.7853978   0.80525416  0.82511055  0.8449669\n",
      "  0.8648233   0.8846796   0.904536    0.92439234  0.94424874  0.96410507\n",
      "  0.98396146  1.0038178   1.0236741   1.0435306   1.0633869   1.0832433\n",
      "  1.1030996   1.122956    1.1428124   1.1626687   1.182525    1.2023814\n",
      "  1.2222378   1.2420942   1.2619505   1.281807    1.3016635   1.3215199\n",
      "  1.3413762   1.3612325   1.381089    1.4009453   1.4208016   1.440658\n",
      "  1.4605144   1.4803708   1.5002271   1.5200834   1.5399399   1.5597962\n",
      "  1.5796525   1.5995089   1.6193653   1.6392217   1.659078    1.6789343\n",
      "  1.6987908   1.7186471   1.7385035   1.7583598   1.7782162   1.7980726\n",
      "  1.8179289   1.8377852   1.8576417   1.877498    1.8973544   1.9172107\n",
      "  1.937067    1.9569235   1.9767798   1.9966362   2.0164926   2.0760617\n",
      "  2.1356306 ]\n"
     ]
    }
   ],
   "source": [
    "img = cv2.imread(\"img/segmented_cropped/G. Bulloides/1.png\")\n",
    "print(\"---- BEFORE ----\")\n",
    "print(\"Image shape:\", img.shape)\n",
    "print(\"Image dtype: \", img.dtype)\n",
    "print(\"Unique values\", np.unique(img))\n",
    "\n",
    "# Convert to float32 and scale to [0, 1]\n",
    "img = img.astype(np.float32)\n",
    "img /= 255\n",
    "\n",
    "img = img.reshape(-1, 1) # flatten \n",
    "img = StandardScaler().fit_transform(img)\n",
    "\n",
    "print(\"\\n---- AFTER ----\")\n",
    "print(\"Image shape:\", img.shape)\n",
    "print(\"Image dtype: \", img.dtype)\n",
    "print(\"Unique values\", np.unique(img))"
   ]
  },
  {
   "cell_type": "markdown",
   "metadata": {
    "pycharm": {
     "name": "#%% md\n"
    }
   },
   "source": [
    "## Load images & convert to greyscale"
   ]
  },
  {
   "cell_type": "markdown",
   "metadata": {},
   "source": [
    "`SEGMENTED_DIR` contains same shape images but with some black background that could affect later in the learning process, although I think PCA should get rid of such black background"
   ]
  },
  {
   "cell_type": "markdown",
   "metadata": {
    "pycharm": {
     "name": "#%% md\n"
    }
   },
   "source": [
    "Also, the max pooling layer(s) of the convnet help to get rid of the background?"
   ]
  },
  {
   "cell_type": "code",
   "execution_count": null,
   "outputs": [],
   "source": [
    "species_dirs = os.listdir(SEGMENTED_DIR)# os.listdir(SEGMENTED_CROPPED_DIR)\n",
    "\n",
    "scaler = StandardScaler()\n",
    "pca = PCA(0.9)\n",
    "pca_r3 = PCA(n_components=3)\n",
    "\n",
    "X_original = []\n",
    "Y = []\n",
    "\n",
    "k = 0\n",
    "for i, specie_dir in enumerate(species_dirs):\n",
    "    specie_dir_abspath = os.path.abspath(\"{}/{}\".format(SEGMENTED_DIR, specie_dir))\n",
    "    for j, img_file_str in enumerate(os.listdir(specie_dir_abspath)):\n",
    "        file_path = \"{}/{}\".format(specie_dir_abspath, img_file_str)\n",
    "        \n",
    "        if not os.path.isfile(file_path):\n",
    "            continue\n",
    "            \n",
    "        image = cv2.imread(file_path)\n",
    "        image = cv2.cvtColor(image, cv2.COLOR_BGR2GRAY)\n",
    "        image = cv2.resize(image, (400, 400))\n",
    "        image = image.astype(np.float32)\n",
    "        image /= 255\n",
    "        image = scaler.fit_transform(image)\n",
    "        \n",
    "        if k >= BATCH_SIZE:\n",
    "            break\n",
    "        \n",
    "        k += 1\n",
    "        X_original.append(image.reshape(1, -1))\n",
    "        Y.append(i) # append the specie \"index\" to Y, expected label\n",
    "    break # load only first folder"
   ],
   "metadata": {
    "collapsed": false,
    "pycharm": {
     "name": "#%%\n"
    }
   }
  },
  {
   "cell_type": "code",
   "execution_count": null,
   "outputs": [],
   "source": [
    "X_original = np.array(X_original)\n",
    "print(\"X original shape\", X_original.shape)\n",
    "single_image_shape = X_original[0].shape\n",
    "print(\"Single image shape\", single_image_shape)\n",
    "\n",
    "X_pca = pca.fit_transform(X_original[:, 0, :])\n",
    "X_viz = pca_r3.fit_transform(X_original[:, 0, :])"
   ],
   "metadata": {
    "collapsed": false,
    "pycharm": {
     "name": "#%%\n"
    }
   }
  },
  {
   "cell_type": "code",
   "execution_count": null,
   "outputs": [],
   "source": [
    "fig = plt.figure()\n",
    "axes = fig.add_subplot(111, projection=\"3d\")\n",
    "axes.scatter(X_viz[:, 0], X_viz[:, 1], X_viz[:, 2])\n",
    "axes.set_xlabel(\"Component 1\")\n",
    "axes.set_ylabel(\"Component 2\")\n",
    "axes.set_zlabel(\"Component 3\")\n",
    "axes.set_title(\"PCA, R3\")\n",
    "plt.show()"
   ],
   "metadata": {
    "collapsed": false,
    "pycharm": {
     "name": "#%%\n"
    }
   }
  },
  {
   "cell_type": "markdown",
   "source": [
    "### TODO: load, split train & test, preprocess images"
   ],
   "metadata": {
    "collapsed": false
   }
  },
  {
   "cell_type": "code",
   "execution_count": null,
   "outputs": [],
   "source": [
    "BATCH_SIZE = 100"
   ],
   "metadata": {
    "collapsed": false,
    "pycharm": {
     "name": "#%%\n"
    }
   }
  },
  {
   "cell_type": "markdown",
   "source": [
    "### Load dataset"
   ],
   "metadata": {
    "collapsed": false
   }
  },
  {
   "cell_type": "markdown",
   "source": [
    "!This takes about 11.2 Gb on RAM!"
   ],
   "metadata": {
    "collapsed": false
   }
  },
  {
   "cell_type": "code",
   "execution_count": null,
   "outputs": [],
   "source": [
    "species_dirs = os.listdir(SEGMENTED_DIR)# os.listdir(SEGMENTED_CROPPED_DIR)\n",
    "\n",
    "scaler = StandardScaler()\n",
    "pca = PCA(0.9)\n",
    "\n",
    "X = []\n",
    "Y = []\n",
    "\n",
    "for i, specie_dir in enumerate(species_dirs):\n",
    "    specie_dir_abspath = os.path.abspath(\"{}/{}\".format(SEGMENTED_DIR, specie_dir))\n",
    "    for j, img_file_str in enumerate(os.listdir(specie_dir_abspath)):\n",
    "        file_path = \"{}/{}\".format(specie_dir_abspath, img_file_str)\n",
    "        \n",
    "        if not os.path.isfile(file_path):\n",
    "            continue\n",
    "            \n",
    "        image = cv2.imread(file_path)\n",
    "        image = cv2.cvtColor(image, cv2.COLOR_BGR2GRAY)\n",
    "        image = cv2.resize(image, (400, 400))\n",
    "        image = image.astype(np.float32)\n",
    "        image /= 255\n",
    "        image = scaler.fit_transform(image)\n",
    "        \n",
    "        X.append(image.reshape(1, -1))\n",
    "        Y.append(i) # append the specie \"index\" to Y, expected label\n",
    "    \n",
    "    print(\"Loaded images from \", specie_dir_abspath)"
   ],
   "metadata": {
    "collapsed": false,
    "pycharm": {
     "name": "#%%\n"
    }
   }
  },
  {
   "cell_type": "markdown",
   "source": [
    "### Preprocess"
   ],
   "metadata": {
    "collapsed": false
   }
  },
  {
   "cell_type": "code",
   "execution_count": null,
   "outputs": [],
   "source": [
    "X = pca.fit_transform(X[:, 0, :])"
   ],
   "metadata": {
    "collapsed": false,
    "pycharm": {
     "name": "#%%\n"
    }
   }
  },
  {
   "cell_type": "markdown",
   "source": [
    "### Split: train & test dataset"
   ],
   "metadata": {
    "collapsed": false
   }
  },
  {
   "cell_type": "code",
   "execution_count": null,
   "outputs": [],
   "source": [
    "X_train, X_test, Y_train, Y_test = train_test_split(X, Y, test_size=0.33, random_state=42)"
   ],
   "metadata": {
    "collapsed": false,
    "pycharm": {
     "name": "#%%\n"
    }
   }
  },
  {
   "cell_type": "markdown",
   "source": [
    "## Create ConvNet"
   ],
   "metadata": {
    "collapsed": false
   }
  },
  {
   "cell_type": "code",
   "execution_count": null,
   "outputs": [],
   "source": [
    "import keras\n",
    "from keras.models import Sequential, Input, Model\n",
    "from keras.layers import Dense, Dropout, Flatten\n",
    "from keras.layers import Conv2D, MaxPooling2D\n",
    "from keras.layers.normalization import BatchNormalization\n",
    "from keras.layers.advanced_activations import LeakyReLU"
   ],
   "metadata": {
    "collapsed": false,
    "pycharm": {
     "name": "#%%\n"
    }
   }
  },
  {
   "cell_type": "code",
   "execution_count": null,
   "outputs": [],
   "source": [
    "model = Sequential()\n",
    "# 32 = # filters (output of conv2D), how to select?\n",
    "# how to select kernel size?\n",
    "model.add(Conv2D(32, kernel_size=(5, 5), activation=\"sigmoid\", input_shape=single_image_shape, padding=\"same\"))\n",
    "\n",
    "# how to select factors? in this case will downscale by a factor of 2\n",
    "model.add(MaxPooling2D((2, 2), padding=\"same\"))\n",
    "model.add(Conv2D(64, kernel_size=(3, 3), activation=\"relu\", padding=\"same\"))\n",
    "model.add(MaxPooling2D((2, 2), padding=\"same\"))\n",
    "model.add(Conv2D(128, kernel_size=(3, 3), activation=\"relu\", padding=\"same\"))\n",
    "model.add(Flatten())\n",
    "model.add(Dense(128, activation=\"relu\"))\n",
    "model.add(Dense(6, activation='softmax')) # 6 targets, G Bulloides, G. Ruber, G....."
   ],
   "metadata": {
    "collapsed": false,
    "pycharm": {
     "name": "#%%\n"
    }
   }
  },
  {
   "cell_type": "code",
   "execution_count": 157,
   "metadata": {},
   "outputs": [],
   "source": []
  },
  {
   "cell_type": "code",
   "execution_count": 158,
   "metadata": {},
   "outputs": [
    {
     "name": "stdout",
     "output_type": "stream",
     "text": [
      "X original shape (100, 1, 160000)\n",
      "Single image shape (1, 160000)\n"
     ]
    }
   ],
   "source": [
    "X_original = np.array(X_original)\n",
    "print(\"X original shape\", X_original.shape)\n",
    "single_image_shape = X_original[0].shape\n",
    "print(\"Single image shape\", single_image_shape)\n",
    "\n",
    "X_pca = pca.fit_transform(X_original[:, 0, :])\n",
    "X_viz = pca_r3.fit_transform(X_original[:, 0, :])"
   ]
  },
  {
   "cell_type": "code",
   "execution_count": 159,
   "metadata": {},
   "outputs": [
    {
     "data": {
      "image/png": "[encoded data removed]",
      "text/plain": [
       "<Figure size 432x288 with 1 Axes>"
      ]
     },
     "metadata": {
      "needs_background": "light"
     },
     "output_type": "display_data"
    }
   ],
   "source": [
    "fig = plt.figure()\n",
    "axes = fig.add_subplot(111, projection=\"3d\")\n",
    "axes.scatter(X_viz[:, 0], X_viz[:, 1], X_viz[:, 2])\n",
    "axes.set_xlabel(\"Component 1\")\n",
    "axes.set_ylabel(\"Component 2\")\n",
    "axes.set_zlabel(\"Component 3\")\n",
    "axes.set_title(\"PCA, R3\")\n",
    "plt.show()"
   ]
  },
  {
   "cell_type": "markdown",
   "metadata": {},
   "source": [
    "### TODO: load, split train & test, preprocess images"
   ]
  },
  {
   "cell_type": "code",
   "execution_count": 3,
   "metadata": {},
   "outputs": [],
   "source": [
    "BATCH_SIZE = 100"
   ]
  },
  {
   "cell_type": "markdown",
   "metadata": {},
   "source": [
    "### Load dataset"
   ]
  },
  {
   "cell_type": "markdown",
   "metadata": {},
   "source": [
    "!This takes about 11.2 Gb on RAM!"
   ]
  },
  {
   "cell_type": "code",
   "execution_count": 3,
   "metadata": {},
   "outputs": [
    {
     "name": "stdout",
     "output_type": "stream",
     "text": [
      "Loaded images from  /remote/projects/foraminifera/img/segmented/N. Pachyderma\n",
      "Loaded images from  /remote/projects/foraminifera/img/segmented/G. Sacculifer\n",
      "Loaded images from  /remote/projects/foraminifera/img/segmented/N. Incompta\n",
      "Loaded images from  /remote/projects/foraminifera/img/segmented/G. Ruber\n",
      "Loaded images from  /remote/projects/foraminifera/img/segmented/N. Dutertrei\n",
      "Loaded images from  /remote/projects/foraminifera/img/segmented/G. Bulloides\n"
     ]
    }
   ],
   "source": [
    "species_dirs = os.listdir(SEGMENTED_DIR)# os.listdir(SEGMENTED_CROPPED_DIR)\n",
    "\n",
    "scaler = StandardScaler()\n",
    "pca = PCA(0.9)\n",
    "\n",
    "X = []\n",
    "Y = []\n",
    "\n",
    "for i, specie_dir in enumerate(species_dirs):\n",
    "    specie_dir_abspath = os.path.abspath(\"{}/{}\".format(SEGMENTED_DIR, specie_dir))\n",
    "    for j, img_file_str in enumerate(os.listdir(specie_dir_abspath)):\n",
    "        file_path = \"{}/{}\".format(specie_dir_abspath, img_file_str)\n",
    "        \n",
    "        if not os.path.isfile(file_path):\n",
    "            continue\n",
    "            \n",
    "        image = cv2.imread(file_path)\n",
    "        image = cv2.cvtColor(image, cv2.COLOR_BGR2GRAY)\n",
    "        image = cv2.resize(image, (400, 400))\n",
    "        image = image.astype(np.float32)\n",
    "        image /= 255\n",
    "        image = scaler.fit_transform(image)\n",
    "        \n",
    "        X.append(image.reshape(1, -1))\n",
    "        Y.append(i) # append the specie \"index\" to Y, expected label\n",
    "    \n",
    "    print(\"Loaded images from \", specie_dir_abspath)"
   ]
  },
  {
   "cell_type": "markdown",
   "metadata": {},
   "source": [
    "### Preprocess"
   ]
  },
  {
   "cell_type": "code",
   "execution_count": null,
   "metadata": {},
   "outputs": [],
   "source": [
    "X = pca.fit_transform(X[:, 0, :])"
   ]
  },
  {
   "cell_type": "markdown",
   "metadata": {},
   "source": [
    "### Split: train & test dataset"
   ]
  },
  {
   "cell_type": "code",
   "execution_count": null,
   "metadata": {},
   "outputs": [],
   "source": [
    "X_train, X_test, Y_train, Y_test = train_test_split(X, Y, test_size=0.33, random_state=42)"
   ]
  },
  {
   "cell_type": "markdown",
   "metadata": {},
   "source": [
    "## Create ConvNet"
   ]
  },
  {
   "cell_type": "code",
   "execution_count": 147,
   "metadata": {},
   "outputs": [
    {
     "name": "stderr",
     "output_type": "stream",
     "text": [
      "Using TensorFlow backend.\n"
     ]
    }
   ],
   "source": [
    "import keras\n",
    "from keras.models import Sequential, Input, Model\n",
    "from keras.layers import Dense, Dropout, Flatten\n",
    "from keras.layers import Conv2D, MaxPooling2D\n",
    "from keras.layers.normalization import BatchNormalization\n",
    "from keras.layers.advanced_activations import LeakyReLU"
   ]
  },
  {
   "cell_type": "code",
   "execution_count": 163,
   "metadata": {},
   "outputs": [
    {
     "ename": "ValueError",
     "evalue": "Input 0 is incompatible with layer conv2d_4: expected ndim=4, found ndim=3",
     "output_type": "error",
     "traceback": [
      "\u001b[0;31m---------------------------------------------------------------------------\u001b[0m",
      "\u001b[0;31mValueError\u001b[0m                                Traceback (most recent call last)",
      "\u001b[0;32m<ipython-input-163-ff19a1d800e8>\u001b[0m in \u001b[0;36m<module>\u001b[0;34m\u001b[0m\n\u001b[1;32m      2\u001b[0m \u001b[0;31m# 32 = # filters (output of conv2D), how to select?\u001b[0m\u001b[0;34m\u001b[0m\u001b[0;34m\u001b[0m\u001b[0;34m\u001b[0m\u001b[0m\n\u001b[1;32m      3\u001b[0m \u001b[0;31m# how to select kernel size?\u001b[0m\u001b[0;34m\u001b[0m\u001b[0;34m\u001b[0m\u001b[0;34m\u001b[0m\u001b[0m\n\u001b[0;32m----> 4\u001b[0;31m \u001b[0mmodel\u001b[0m\u001b[0;34m.\u001b[0m\u001b[0madd\u001b[0m\u001b[0;34m(\u001b[0m\u001b[0mConv2D\u001b[0m\u001b[0;34m(\u001b[0m\u001b[0;36m32\u001b[0m\u001b[0;34m,\u001b[0m \u001b[0mkernel_size\u001b[0m\u001b[0;34m=\u001b[0m\u001b[0;34m(\u001b[0m\u001b[0;36m5\u001b[0m\u001b[0;34m,\u001b[0m \u001b[0;36m5\u001b[0m\u001b[0;34m)\u001b[0m\u001b[0;34m,\u001b[0m \u001b[0mactivation\u001b[0m\u001b[0;34m=\u001b[0m\u001b[0;34m\"sigmoid\"\u001b[0m\u001b[0;34m,\u001b[0m \u001b[0minput_shape\u001b[0m\u001b[0;34m=\u001b[0m\u001b[0msingle_image_shape\u001b[0m\u001b[0;34m,\u001b[0m \u001b[0mpadding\u001b[0m\u001b[0;34m=\u001b[0m\u001b[0;34m\"same\"\u001b[0m\u001b[0;34m)\u001b[0m\u001b[0;34m)\u001b[0m\u001b[0;34m\u001b[0m\u001b[0;34m\u001b[0m\u001b[0m\n\u001b[0m\u001b[1;32m      5\u001b[0m \u001b[0;34m\u001b[0m\u001b[0m\n\u001b[1;32m      6\u001b[0m \u001b[0;31m# how to select factors? in this case will downscale by a factor of 2\u001b[0m\u001b[0;34m\u001b[0m\u001b[0;34m\u001b[0m\u001b[0;34m\u001b[0m\u001b[0m\n",
      "\u001b[0;32m~/venvs/foraminifera/lib/python3.7/site-packages/keras/engine/sequential.py\u001b[0m in \u001b[0;36madd\u001b[0;34m(self, layer)\u001b[0m\n\u001b[1;32m    164\u001b[0m                     \u001b[0;31m# and create the node connecting the current layer\u001b[0m\u001b[0;34m\u001b[0m\u001b[0;34m\u001b[0m\u001b[0;34m\u001b[0m\u001b[0m\n\u001b[1;32m    165\u001b[0m                     \u001b[0;31m# to the input layer we just created.\u001b[0m\u001b[0;34m\u001b[0m\u001b[0;34m\u001b[0m\u001b[0;34m\u001b[0m\u001b[0m\n\u001b[0;32m--> 166\u001b[0;31m                     \u001b[0mlayer\u001b[0m\u001b[0;34m(\u001b[0m\u001b[0mx\u001b[0m\u001b[0;34m)\u001b[0m\u001b[0;34m\u001b[0m\u001b[0;34m\u001b[0m\u001b[0m\n\u001b[0m\u001b[1;32m    167\u001b[0m                     \u001b[0mset_inputs\u001b[0m \u001b[0;34m=\u001b[0m \u001b[0;32mTrue\u001b[0m\u001b[0;34m\u001b[0m\u001b[0;34m\u001b[0m\u001b[0m\n\u001b[1;32m    168\u001b[0m             \u001b[0;32melse\u001b[0m\u001b[0;34m:\u001b[0m\u001b[0;34m\u001b[0m\u001b[0;34m\u001b[0m\u001b[0m\n",
      "\u001b[0;32m~/venvs/foraminifera/lib/python3.7/site-packages/keras/backend/tensorflow_backend.py\u001b[0m in \u001b[0;36msymbolic_fn_wrapper\u001b[0;34m(*args, **kwargs)\u001b[0m\n\u001b[1;32m     73\u001b[0m         \u001b[0;32mif\u001b[0m \u001b[0m_SYMBOLIC_SCOPE\u001b[0m\u001b[0;34m.\u001b[0m\u001b[0mvalue\u001b[0m\u001b[0;34m:\u001b[0m\u001b[0;34m\u001b[0m\u001b[0;34m\u001b[0m\u001b[0m\n\u001b[1;32m     74\u001b[0m             \u001b[0;32mwith\u001b[0m \u001b[0mget_graph\u001b[0m\u001b[0;34m(\u001b[0m\u001b[0;34m)\u001b[0m\u001b[0;34m.\u001b[0m\u001b[0mas_default\u001b[0m\u001b[0;34m(\u001b[0m\u001b[0;34m)\u001b[0m\u001b[0;34m:\u001b[0m\u001b[0;34m\u001b[0m\u001b[0;34m\u001b[0m\u001b[0m\n\u001b[0;32m---> 75\u001b[0;31m                 \u001b[0;32mreturn\u001b[0m \u001b[0mfunc\u001b[0m\u001b[0;34m(\u001b[0m\u001b[0;34m*\u001b[0m\u001b[0margs\u001b[0m\u001b[0;34m,\u001b[0m \u001b[0;34m**\u001b[0m\u001b[0mkwargs\u001b[0m\u001b[0;34m)\u001b[0m\u001b[0;34m\u001b[0m\u001b[0;34m\u001b[0m\u001b[0m\n\u001b[0m\u001b[1;32m     76\u001b[0m         \u001b[0;32melse\u001b[0m\u001b[0;34m:\u001b[0m\u001b[0;34m\u001b[0m\u001b[0;34m\u001b[0m\u001b[0m\n\u001b[1;32m     77\u001b[0m             \u001b[0;32mreturn\u001b[0m \u001b[0mfunc\u001b[0m\u001b[0;34m(\u001b[0m\u001b[0;34m*\u001b[0m\u001b[0margs\u001b[0m\u001b[0;34m,\u001b[0m \u001b[0;34m**\u001b[0m\u001b[0mkwargs\u001b[0m\u001b[0;34m)\u001b[0m\u001b[0;34m\u001b[0m\u001b[0;34m\u001b[0m\u001b[0m\n",
      "\u001b[0;32m~/venvs/foraminifera/lib/python3.7/site-packages/keras/engine/base_layer.py\u001b[0m in \u001b[0;36m__call__\u001b[0;34m(self, inputs, **kwargs)\u001b[0m\n\u001b[1;32m    444\u001b[0m                 \u001b[0;31m# Raise exceptions in case the input is not compatible\u001b[0m\u001b[0;34m\u001b[0m\u001b[0;34m\u001b[0m\u001b[0;34m\u001b[0m\u001b[0m\n\u001b[1;32m    445\u001b[0m                 \u001b[0;31m# with the input_spec specified in the layer constructor.\u001b[0m\u001b[0;34m\u001b[0m\u001b[0;34m\u001b[0m\u001b[0;34m\u001b[0m\u001b[0m\n\u001b[0;32m--> 446\u001b[0;31m                 \u001b[0mself\u001b[0m\u001b[0;34m.\u001b[0m\u001b[0massert_input_compatibility\u001b[0m\u001b[0;34m(\u001b[0m\u001b[0minputs\u001b[0m\u001b[0;34m)\u001b[0m\u001b[0;34m\u001b[0m\u001b[0;34m\u001b[0m\u001b[0m\n\u001b[0m\u001b[1;32m    447\u001b[0m \u001b[0;34m\u001b[0m\u001b[0m\n\u001b[1;32m    448\u001b[0m                 \u001b[0;31m# Collect input shapes to build layer.\u001b[0m\u001b[0;34m\u001b[0m\u001b[0;34m\u001b[0m\u001b[0;34m\u001b[0m\u001b[0m\n",
      "\u001b[0;32m~/venvs/foraminifera/lib/python3.7/site-packages/keras/engine/base_layer.py\u001b[0m in \u001b[0;36massert_input_compatibility\u001b[0;34m(self, inputs)\u001b[0m\n\u001b[1;32m    340\u001b[0m                                      \u001b[0mself\u001b[0m\u001b[0;34m.\u001b[0m\u001b[0mname\u001b[0m \u001b[0;34m+\u001b[0m \u001b[0;34m': expected ndim='\u001b[0m \u001b[0;34m+\u001b[0m\u001b[0;34m\u001b[0m\u001b[0;34m\u001b[0m\u001b[0m\n\u001b[1;32m    341\u001b[0m                                      \u001b[0mstr\u001b[0m\u001b[0;34m(\u001b[0m\u001b[0mspec\u001b[0m\u001b[0;34m.\u001b[0m\u001b[0mndim\u001b[0m\u001b[0;34m)\u001b[0m \u001b[0;34m+\u001b[0m \u001b[0;34m', found ndim='\u001b[0m \u001b[0;34m+\u001b[0m\u001b[0;34m\u001b[0m\u001b[0;34m\u001b[0m\u001b[0m\n\u001b[0;32m--> 342\u001b[0;31m                                      str(K.ndim(x)))\n\u001b[0m\u001b[1;32m    343\u001b[0m             \u001b[0;32mif\u001b[0m \u001b[0mspec\u001b[0m\u001b[0;34m.\u001b[0m\u001b[0mmax_ndim\u001b[0m \u001b[0;32mis\u001b[0m \u001b[0;32mnot\u001b[0m \u001b[0;32mNone\u001b[0m\u001b[0;34m:\u001b[0m\u001b[0;34m\u001b[0m\u001b[0;34m\u001b[0m\u001b[0m\n\u001b[1;32m    344\u001b[0m                 \u001b[0mndim\u001b[0m \u001b[0;34m=\u001b[0m \u001b[0mK\u001b[0m\u001b[0;34m.\u001b[0m\u001b[0mndim\u001b[0m\u001b[0;34m(\u001b[0m\u001b[0mx\u001b[0m\u001b[0;34m)\u001b[0m\u001b[0;34m\u001b[0m\u001b[0;34m\u001b[0m\u001b[0m\n",
      "\u001b[0;31mValueError\u001b[0m: Input 0 is incompatible with layer conv2d_4: expected ndim=4, found ndim=3"
     ]
    }
   ],
   "source": [
    "model = Sequential()\n",
    "# 32 = # filters (output of conv2D), how to select?\n",
    "# how to select kernel size?\n",
    "model.add(Conv2D(32, kernel_size=(5, 5), activation=\"sigmoid\", input_shape=single_image_shape, padding=\"same\"))\n",
    "\n",
    "# how to select factors? in this case will downscale by a factor of 2\n",
    "model.add(MaxPooling2D((2, 2), padding=\"same\"))\n",
    "model.add(Conv2D(64, kernel_size=(3, 3), activation=\"relu\", padding=\"same\"))\n",
    "model.add(MaxPooling2D((2, 2), padding=\"same\"))\n",
    "model.add(Conv2D(128, kernel_size=(3, 3), activation=\"relu\", padding=\"same\"))\n",
    "model.add(Flatten())\n",
    "model.add(Dense(128, activation=\"relu\"))\n",
    "model.add(Dense(6, activation='softmax')) # 6 targets, G Bulloides, G. Ruber, G....."
   ]
  },
  {
   "cell_type": "code",
   "execution_count": null,
   "metadata": {},
   "outputs": [],
   "source": []
  }
 ],
 "metadata": {
  "kernelspec": {
   "display_name": "Python 3",
   "language": "python",
   "name": "python3"
  },
  "language_info": {
   "codemirror_mode": {
    "name": "ipython",
    "version": 3
   },
   "file_extension": ".py",
   "mimetype": "text/x-python",
   "name": "python",
   "nbconvert_exporter": "python",
   "pygments_lexer": "ipython3",
   "version": "3.7.6"
  },
  "pycharm": {
   "stem_cell": {
    "cell_type": "raw",
    "source": [],
    "metadata": {
     "collapsed": false
    }
   }
  }
 },
 "nbformat": 4,
 "nbformat_minor": 4
}